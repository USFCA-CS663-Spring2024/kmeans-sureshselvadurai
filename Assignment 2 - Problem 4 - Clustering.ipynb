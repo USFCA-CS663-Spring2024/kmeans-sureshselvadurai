{
 "cells": [
  {
   "cell_type": "markdown",
   "id": "eee17515-1faa-4789-b697-438218d37e0f",
   "metadata": {},
   "source": [
    "# CS 663 - Machine Learning Spring, 2024\n",
    "## Assignment 02 - KMeans\n",
    "\n",
    "### Goals:\n",
    "1. Develop your version of K-Means.\n",
    "2. Compare performance of different implementations.\n",
    "3. Demonstrate understanding of clustering algorithms like K-Means, DBSCAN, and Hierarchical.\n",
    "4. Extend functionality of K-Means implementation through additional parameters.\n",
    "\n"
   ]
  },
  {
   "cell_type": "markdown",
   "id": "7d1c04a0-e47d-47b2-9ba3-35fc41556f92",
   "metadata": {},
   "source": [
    "## Problem 4 : Extend K-Means (optional)\n",
    "\n",
    "* Change your implementation of K-Means in the first part to include an additional optional Boolean (True/False) argument, balanced. The default value must be False. When balanced is set to True, the implementation changes so that each of the k clusters are (roughly) equal with respect to the number of instances in the cluster hypotheses — i.e. the implementation generates clusters of (roughly) the same size. When balanced is set to False, the logic is the canonical K-Means, described in the Background section.\n"
   ]
  },
  {
   "cell_type": "markdown",
   "id": "db93fcbe-c950-4733-8431-59992fb35d06",
   "metadata": {},
   "source": [
    "## Approach\n",
    "\n",
    "1. We first import the generate_skewed_points dataset and perform EDA\n",
    "2. Fit the model with my implementation of KMeans with balanced not set\n",
    "3. Fit the model with my implementation of KMeans with balanced set to true\n",
    "5. Reported comparisons\n"
   ]
  },
  {
   "cell_type": "markdown",
   "id": "ba77336e-b742-4dcc-acf8-1833bae93394",
   "metadata": {},
   "source": [
    "## References\n",
    "\n",
    "- [Scikit-Learn Documentation: KMeans](https://scikit-learn.org/stable/modules/generated/sklearn.cluster.KMeans.html)  \n",
    "  Official documentation for the KMeans clustering algorithm in Scikit-Learn.\n",
    "\n",
    "- [IEEE Xplore Article: SKLearn reference values](https://ieeexplore.ieee.org/document/9260048)  \n"
   ]
  },
  {
   "cell_type": "code",
   "execution_count": 1,
   "id": "9523f89a-b6f7-4b35-b8f5-f8628c5f4407",
   "metadata": {},
   "outputs": [],
   "source": [
    "import sys\n",
    "sys.path.append(\"./modules\")\n",
    "from blob_data._blob_data import generate_skewed_points\n",
    "from eda.eda import EDAAnalyzer\n",
    "from kmeans._kmeans import KMeans as myKMeans\n",
    "from sklearn.cluster import KMeans\n",
    "import pandas as pd\n",
    "import seaborn as sns\n",
    "from sklearn.impute import SimpleImputer\n",
    "from sklearn.preprocessing import StandardScaler\n",
    "from cluster_algo.kmeans.kmeans_clustering import KMeansClustering"
   ]
  },
  {
   "cell_type": "code",
   "execution_count": 2,
   "id": "952fd8b9-a0d8-4547-8768-e4c0820cf12e",
   "metadata": {},
   "outputs": [],
   "source": [
    "blob_data = generate_skewed_points(n_samples=700)"
   ]
  },
  {
   "cell_type": "markdown",
   "id": "6e5d51ad-fec4-40b1-8c22-31927b0ebfb4",
   "metadata": {},
   "source": [
    "#### EDA"
   ]
  },
  {
   "cell_type": "code",
   "execution_count": 3,
   "id": "83f3bd55-c8e9-4005-89d2-70fbc47d7fee",
   "metadata": {},
   "outputs": [
    {
     "data": {
      "text/html": [
       "<div>\n",
       "<style scoped>\n",
       "    .dataframe tbody tr th:only-of-type {\n",
       "        vertical-align: middle;\n",
       "    }\n",
       "\n",
       "    .dataframe tbody tr th {\n",
       "        vertical-align: top;\n",
       "    }\n",
       "\n",
       "    .dataframe thead th {\n",
       "        text-align: right;\n",
       "    }\n",
       "</style>\n",
       "<table border=\"1\" class=\"dataframe\">\n",
       "  <thead>\n",
       "    <tr style=\"text-align: right;\">\n",
       "      <th></th>\n",
       "      <th>x</th>\n",
       "      <th>y</th>\n",
       "    </tr>\n",
       "  </thead>\n",
       "  <tbody>\n",
       "    <tr>\n",
       "      <th>0</th>\n",
       "      <td>0.174959</td>\n",
       "      <td>0.600266</td>\n",
       "    </tr>\n",
       "    <tr>\n",
       "      <th>1</th>\n",
       "      <td>0.381039</td>\n",
       "      <td>0.468236</td>\n",
       "    </tr>\n",
       "    <tr>\n",
       "      <th>2</th>\n",
       "      <td>1.845433</td>\n",
       "      <td>0.438758</td>\n",
       "    </tr>\n",
       "    <tr>\n",
       "      <th>3</th>\n",
       "      <td>0.602775</td>\n",
       "      <td>0.578666</td>\n",
       "    </tr>\n",
       "    <tr>\n",
       "      <th>4</th>\n",
       "      <td>2.655049</td>\n",
       "      <td>0.115167</td>\n",
       "    </tr>\n",
       "  </tbody>\n",
       "</table>\n",
       "</div>"
      ],
      "text/plain": [
       "          x         y\n",
       "0  0.174959  0.600266\n",
       "1  0.381039  0.468236\n",
       "2  1.845433  0.438758\n",
       "3  0.602775  0.578666\n",
       "4  2.655049  0.115167"
      ]
     },
     "execution_count": 3,
     "metadata": {},
     "output_type": "execute_result"
    }
   ],
   "source": [
    "eda_analyzer = EDAAnalyzer(blob_data)\n",
    "eda_analyzer.display_head()"
   ]
  },
  {
   "cell_type": "code",
   "execution_count": 4,
   "id": "f5da3006-3006-480a-bf76-3c05732fcd41",
   "metadata": {},
   "outputs": [
    {
     "data": {
      "text/plain": [
       "'Shape of data: rows: 700 cols: 2'"
      ]
     },
     "execution_count": 4,
     "metadata": {},
     "output_type": "execute_result"
    }
   ],
   "source": [
    "eda_analyzer.display_shape()"
   ]
  },
  {
   "cell_type": "code",
   "execution_count": 5,
   "id": "afc41bc1-6402-47a8-8277-a3aa67f547ba",
   "metadata": {},
   "outputs": [
    {
     "data": {
      "text/html": [
       "<div>\n",
       "<style scoped>\n",
       "    .dataframe tbody tr th:only-of-type {\n",
       "        vertical-align: middle;\n",
       "    }\n",
       "\n",
       "    .dataframe tbody tr th {\n",
       "        vertical-align: top;\n",
       "    }\n",
       "\n",
       "    .dataframe thead th {\n",
       "        text-align: right;\n",
       "    }\n",
       "</style>\n",
       "<table border=\"1\" class=\"dataframe\">\n",
       "  <thead>\n",
       "    <tr style=\"text-align: right;\">\n",
       "      <th></th>\n",
       "      <th>count</th>\n",
       "      <th>mean</th>\n",
       "      <th>std</th>\n",
       "      <th>min</th>\n",
       "      <th>25%</th>\n",
       "      <th>50%</th>\n",
       "      <th>75%</th>\n",
       "      <th>max</th>\n",
       "    </tr>\n",
       "  </thead>\n",
       "  <tbody>\n",
       "    <tr>\n",
       "      <th>x</th>\n",
       "      <td>700.0</td>\n",
       "      <td>1.050165</td>\n",
       "      <td>1.053467</td>\n",
       "      <td>0.000048</td>\n",
       "      <td>0.305930</td>\n",
       "      <td>0.720177</td>\n",
       "      <td>1.506153</td>\n",
       "      <td>6.735557</td>\n",
       "    </tr>\n",
       "    <tr>\n",
       "      <th>y</th>\n",
       "      <td>700.0</td>\n",
       "      <td>0.502809</td>\n",
       "      <td>0.286858</td>\n",
       "      <td>0.001289</td>\n",
       "      <td>0.248778</td>\n",
       "      <td>0.501481</td>\n",
       "      <td>0.758613</td>\n",
       "      <td>0.999924</td>\n",
       "    </tr>\n",
       "  </tbody>\n",
       "</table>\n",
       "</div>"
      ],
      "text/plain": [
       "   count      mean       std       min       25%       50%       75%       max\n",
       "x  700.0  1.050165  1.053467  0.000048  0.305930  0.720177  1.506153  6.735557\n",
       "y  700.0  0.502809  0.286858  0.001289  0.248778  0.501481  0.758613  0.999924"
      ]
     },
     "execution_count": 5,
     "metadata": {},
     "output_type": "execute_result"
    }
   ],
   "source": [
    "eda_analyzer.describe()"
   ]
  },
  {
   "cell_type": "markdown",
   "id": "2cd248a3-451b-47e8-a70d-0f2f2b3cc07c",
   "metadata": {},
   "source": [
    "#### Univariate Analysis"
   ]
  },
  {
   "cell_type": "code",
   "execution_count": 6,
   "id": "750cfb5f-d453-4598-9346-f07240009bb3",
   "metadata": {},
   "outputs": [
    {
     "data": {
      "image/png": "[encoded data removed]",
      "text/plain": [
       "<Figure size 2000x400 with 4 Axes>"
      ]
     },
     "metadata": {},
     "output_type": "display_data"
    }
   ],
   "source": [
    "eda_analyzer.plot_histograms()"
   ]
  },
  {
   "cell_type": "code",
   "execution_count": 7,
   "id": "efb01514-0b35-42af-940c-f84754f411db",
   "metadata": {},
   "outputs": [
    {
     "name": "stderr",
     "output_type": "stream",
     "text": [
      "/Library/Frameworks/Python.framework/Versions/3.11/lib/python3.11/site-packages/seaborn/categorical.py:640: FutureWarning: SeriesGroupBy.grouper is deprecated and will be removed in a future version of pandas.\n",
      "  positions = grouped.grouper.result_index.to_numpy(dtype=float)\n",
      "/Library/Frameworks/Python.framework/Versions/3.11/lib/python3.11/site-packages/seaborn/categorical.py:640: FutureWarning: SeriesGroupBy.grouper is deprecated and will be removed in a future version of pandas.\n",
      "  positions = grouped.grouper.result_index.to_numpy(dtype=float)\n"
     ]
    },
    {
     "data": {
      "image/png": "[encoded data removed]",
      "text/plain": [
       "<Figure size 2000x1400 with 3 Axes>"
      ]
     },
     "metadata": {},
     "output_type": "display_data"
    }
   ],
   "source": [
    "eda_analyzer.get_box_plot()"
   ]
  },
  {
   "cell_type": "markdown",
   "id": "b7d636bc-1bdf-45f6-85e5-e97d850d0d3a",
   "metadata": {},
   "source": [
    "##### Bivariate Analysis"
   ]
  },
  {
   "cell_type": "code",
   "execution_count": null,
   "id": "47413e79-b4a3-46c6-873a-cedf8044ebcc",
   "metadata": {},
   "outputs": [],
   "source": [
    "eda_analyzer.get_scatter_plot(\"y\")"
   ]
  },
  {
   "cell_type": "code",
   "execution_count": null,
   "id": "8a288078-2fec-441a-a787-2bbca7120bd0",
   "metadata": {},
   "outputs": [],
   "source": [
    "eda_analyzer.get_heat_map()"
   ]
  },
  {
   "cell_type": "markdown",
   "id": "6712cecc-2858-4d25-b967-8902b22281d1",
   "metadata": {},
   "source": [
    "#### Data quality evaluvation : \n",
    "\n",
    "- **Number of Samples**: 700\n",
    "- **Number of Centers**: 4\n",
    "- **Data Structure**: Synthetic dataset with 700 samples distributed among 4 clusters.\n",
    "- **Cluster Separation**: Each cluster has a distinct centroid with a standard deviation of 0.60, indicating some overlap between clusters.\n",
    "- **Randomness**: Generated with a fixed random state of 0 for reproducibility.\n"
   ]
  },
  {
   "cell_type": "markdown",
   "id": "daa7383a-bb48-4351-b2e8-a535a37813c9",
   "metadata": {},
   "source": [
    "#### Fit Data with my balance not set"
   ]
  },
  {
   "cell_type": "markdown",
   "id": "e95d6c13-12c3-4abe-acc3-154dafdb133c",
   "metadata": {},
   "source": [
    "* We aren't doing hyperparameter tuning as we only want to test the hypothesis at that pre decided values . Though its highly recommended"
   ]
  },
  {
   "cell_type": "code",
   "execution_count": null,
   "id": "9b2cec64-5fe7-498a-afd5-c5770a1a9d1c",
   "metadata": {},
   "outputs": [],
   "source": [
    "myKMeans = myKMeans(n_clusters=4, max_iter=300)\n",
    "labels_myKMeans, cluster_centers_myKMeans = myKMeans.fit(blob_data)\n",
    "myKMeans.plot(blob_data, labels_myKMeans, centroids=cluster_centers_myKMeans, title=\"Data Cluster with balance not set\")"
   ]
  },
  {
   "cell_type": "code",
   "execution_count": null,
   "id": "ed5087df-9d7e-4e1f-a01f-417b3de9f483",
   "metadata": {},
   "outputs": [],
   "source": [
    "myKMeans.print_label_counts()"
   ]
  },
  {
   "cell_type": "markdown",
   "id": "70043522-91b2-44cd-93db-abd183cadf3d",
   "metadata": {},
   "source": [
    "#### Fit Data with my balance not set"
   ]
  },
  {
   "cell_type": "code",
   "execution_count": null,
   "id": "9271a4db-81a7-45eb-9193-a19d08a588b5",
   "metadata": {},
   "outputs": [],
   "source": [
    "from kmeans._kmeans import KMeans as myKMeans\n",
    "myKMeans = myKMeans(n_clusters=4, max_iter=300, balanced=True)\n",
    "labels_myKMeans, cluster_centers_myKMeans = myKMeans.fit(blob_data)\n",
    "myKMeans.plot(blob_data, labels_myKMeans, centroids=cluster_centers_myKMeans, title=\"Data Cluster with balance set\")"
   ]
  },
  {
   "cell_type": "code",
   "execution_count": null,
   "id": "2d8e0baa-8576-4fa3-af96-ab3320b23542",
   "metadata": {},
   "outputs": [],
   "source": [
    "cluster_centers_myKMeans"
   ]
  },
  {
   "cell_type": "code",
   "execution_count": null,
   "id": "6e81db52-4751-43a3-9bdd-aca911e0254f",
   "metadata": {},
   "outputs": [],
   "source": [
    "myKMeans.print_label_counts()"
   ]
  },
  {
   "cell_type": "markdown",
   "id": "56b09fd9-a9c7-4935-b545-be3abe5b59a7",
   "metadata": {},
   "source": [
    "#### Conclusion\n",
    " * As clearly evident in out two testing methods with balanced flag, we find in the later case its equally distributed.\n",
    " * This could have been done by assigning min one at a time, but the implemented model is about allocating even datapoints first and then moving to other clusters\n"
   ]
  }
 ],
 "metadata": {
  "kernelspec": {
   "display_name": "Python 3 (ipykernel)",
   "language": "python",
   "name": "python3"
  },
  "language_info": {
   "codemirror_mode": {
    "name": "ipython",
    "version": 3
   },
   "file_extension": ".py",
   "mimetype": "text/x-python",
   "name": "python",
   "nbconvert_exporter": "python",
   "pygments_lexer": "ipython3",
   "version": "3.11.4"
  }
 },
 "nbformat": 4,
 "nbformat_minor": 5
}
